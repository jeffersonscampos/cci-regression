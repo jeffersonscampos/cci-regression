{
 "cells": [
  {
   "cell_type": "code",
   "execution_count": null,
   "metadata": {},
   "outputs": [
    {
     "name": "stdout",
     "output_type": "stream",
     "text": [
      "1,2,3,4,5,6,7,8,9,10,11,12,13,"
     ]
    }
   ],
   "source": [
    "import pickle\n",
    "import sys\n",
    "\n",
    "sentences_load = []\n",
    "cont = 0\n",
    "\n",
    "with open(\"sentences.txt\", \"rb\") as rfp:   # Unpickling\n",
    "    while 1:\n",
    "        try:\n",
    "            if cont > 10:\n",
    "                sentences_load.extend(pickle.load(rfp))\n",
    "            sys.stdout.write(str(cont) + ',')\n",
    "            cont += 1\n",
    "        except EOFError:\n",
    "            rfp.close()\n",
    "            break\n",
    "        \n",
    "    \n",
    "len(sentences_load)"
   ]
  },
  {
   "cell_type": "code",
   "execution_count": null,
   "metadata": {},
   "outputs": [],
   "source": [
    "import gensim\n",
    "\n",
    "# train model\n",
    "model = gensim.models.Word2Vec(sentences_tokens, size=300, workers=16, iter=10, negative=5)\n",
    "# trim memory\n",
    "model.init_sims(replace=True)\n",
    "# save model\n",
    "model.save('evol_word2vec.mdl')\n",
    "model.wv.save_word2vec_format('evol_word2vec.bin', binary=True)"
   ]
  },
  {
   "cell_type": "code",
   "execution_count": null,
   "metadata": {},
   "outputs": [],
   "source": [
    "# creta a dict \n",
    "w2v = dict(zip(model.wv.index2word, model.wv.syn0))\n",
    "print (\"Number of tokens in Word2Vec:\", len(w2v.keys()))"
   ]
  },
  {
   "cell_type": "code",
   "execution_count": null,
   "metadata": {},
   "outputs": [],
   "source": [
    "model.most_similar_cosmul('queda',topn=10)"
   ]
  }
 ],
 "metadata": {
  "kernelspec": {
   "display_name": "Python 3",
   "language": "python",
   "name": "python3"
  },
  "language_info": {
   "codemirror_mode": {
    "name": "ipython",
    "version": 3
   },
   "file_extension": ".py",
   "mimetype": "text/x-python",
   "name": "python",
   "nbconvert_exporter": "python",
   "pygments_lexer": "ipython3",
   "version": "3.5.3"
  }
 },
 "nbformat": 4,
 "nbformat_minor": 2
}
