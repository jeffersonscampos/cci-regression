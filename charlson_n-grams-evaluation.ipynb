{
 "cells": [
  {
   "cell_type": "code",
   "execution_count": 27,
   "metadata": {},
   "outputs": [
    {
     "data": {
      "text/plain": [
       "(48907, 1)"
      ]
     },
     "execution_count": 27,
     "metadata": {},
     "output_type": "execute_result"
    }
   ],
   "source": [
    "import numpy as np\n",
    "import gzip, pickle\n",
    "import pandas as pd\n",
    "\n",
    "patients = pd.read_csv('internacoes_charlson_zero.csv.gz', compression='gzip', \\\n",
    "                       nrows=None, usecols=['target'])\n",
    "target = patients['target'].values\n",
    "patients.shape"
   ]
  },
  {
   "cell_type": "code",
   "execution_count": 28,
   "metadata": {},
   "outputs": [
    {
     "name": "stdout",
     "output_type": "stream",
     "text": [
      "(48907, 5000) (48907, 5000) (48907, 5000) (48907, 10000)\n"
     ]
    }
   ],
   "source": [
    "with gzip.open(\"data_5k_unigram.npy.gz\", \"rb\") as wfp:   #Pickling\n",
    "    unigram = pickle.load(wfp)\n",
    "    wfp.close()\n",
    "    \n",
    "with gzip.open(\"data_5k_bigram.npy.gz\", \"rb\") as wfp:   #Pickling\n",
    "    bigram = pickle.load(wfp)\n",
    "    wfp.close()\n",
    "    \n",
    "with gzip.open(\"data_5k_trigram.npy.gz\", \"rb\") as wfp:   #Pickling\n",
    "    trigram = pickle.load(wfp)\n",
    "    wfp.close()\n",
    "    \n",
    "with gzip.open(\"data_10k_multigram.npy.gz\", \"rb\") as wfp:   #Pickling\n",
    "    multigram = pickle.load(wfp)\n",
    "    wfp.close()\n",
    "        \n",
    "print (unigram.shape, bigram.shape, trigram.shape, multigram.shape)"
   ]
  },
  {
   "cell_type": "code",
   "execution_count": 29,
   "metadata": {},
   "outputs": [],
   "source": [
    "from sklearn.ensemble import RandomForestRegressor\n",
    "from sklearn.model_selection import cross_val_score\n",
    "import numpy as np\n",
    "\n",
    "import warnings\n",
    "warnings.filterwarnings('ignore')"
   ]
  },
  {
   "cell_type": "code",
   "execution_count": 30,
   "metadata": {},
   "outputs": [],
   "source": [
    "from collections import OrderedDict\n",
    "grams = OrderedDict({ \n",
    "    'unigram': unigram,\n",
    "    'bigram': bigram,\n",
    "    'trigram': trigram,\n",
    "    'multigram': multigram,\n",
    "})"
   ]
  },
  {
   "cell_type": "code",
   "execution_count": 31,
   "metadata": {},
   "outputs": [
    {
     "name": "stdout",
     "output_type": "stream",
     "text": [
      "250     2.19    2.44    2.44    2.39\n",
      "500     1.94    2.35    2.34    2.34\n",
      "750     1.86    2.31    2.17    2.26\n",
      "1000    1.65    2.11    1.82    2.16\n",
      "1250    1.58    1.92    1.74    2.08\n",
      "1500    1.54    1.7     1.72    1.93\n",
      "1750    1.52    1.64    1.69    1.88\n",
      "2000    1.49    1.62    1.64    1.71\n",
      "2250    1.5     1.6     1.62    1.67\n",
      "2500    1.5     1.58    1.61    1.59\n",
      "2750    1.47    1.56    1.6     1.56\n",
      "3000    1.46    1.54    1.59    1.56\n",
      "3250    1.45    1.53    1.59    1.54\n",
      "3500    1.42    1.53    1.58    1.53\n",
      "3750    1.42    1.51    1.58    1.51\n",
      "4000    1.42    1.51    1.58    1.5\n",
      "4250    1.42    1.5     1.57    1.49\n",
      "4500    1.42    1.5     1.57    1.49\n",
      "4750    1.41    1.5     1.57    1.48\n",
      "5000    1.41    1.5     1.57    1.48\n"
     ]
    }
   ],
   "source": [
    "for size in range(250,5001,250):\n",
    "    \n",
    "    results = {}\n",
    "    \n",
    "    for name, gram in grams.items():\n",
    "        \n",
    "        model = RandomForestRegressor(n_jobs=5)\n",
    "\n",
    "        target1 = np.asarray(target[:5000])\n",
    "        data = gram[:len(target1),:250].todense()\n",
    "\n",
    "        scores = cross_val_score(model, data, target1, cv=10, scoring='neg_mean_absolute_error', n_jobs=10)\n",
    "        results[name] = np.abs(round(np.mean(scores),2))\n",
    "    \n",
    "    print(size, results['unigram'], results['bigram'], results['trigram'], results['multigram'])"
   ]
  },
  {
   "cell_type": "code",
   "execution_count": null,
   "metadata": {},
   "outputs": [],
   "source": []
  }
 ],
 "metadata": {
  "kernelspec": {
   "display_name": "Python 3",
   "language": "python",
   "name": "python3"
  },
  "language_info": {
   "codemirror_mode": {
    "name": "ipython",
    "version": 3
   },
   "file_extension": ".py",
   "mimetype": "text/x-python",
   "name": "python",
   "nbconvert_exporter": "python",
   "pygments_lexer": "ipython3",
   "version": "3.6.3"
  }
 },
 "nbformat": 4,
 "nbformat_minor": 2
}
