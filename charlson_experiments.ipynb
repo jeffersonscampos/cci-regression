{
 "cells": [
  {
   "cell_type": "code",
   "execution_count": 7,
   "metadata": {},
   "outputs": [
    {
     "data": {
      "text/plain": [
       "(48907, 1)"
      ]
     },
     "execution_count": 7,
     "metadata": {},
     "output_type": "execute_result"
    }
   ],
   "source": [
    "import numpy as np\n",
    "import gzip, pickle\n",
    "import pandas as pd\n",
    "\n",
    "patients = pd.read_csv('internacoes_charlson_zero.csv.gz', compression='gzip', \\\n",
    "                       nrows=None, usecols=['target'])\n",
    "target = patients['target'].values\n",
    "patients.shape"
   ]
  },
  {
   "cell_type": "code",
   "execution_count": 8,
   "metadata": {},
   "outputs": [
    {
     "data": {
      "text/plain": [
       "(48907, 5000)"
      ]
     },
     "execution_count": 8,
     "metadata": {},
     "output_type": "execute_result"
    }
   ],
   "source": [
    "with gzip.open(\"data_5k_unigram.npy.gz\", \"rb\") as wfp:   #Pickling\n",
    "    data = pickle.load(wfp)\n",
    "    wfp.close()\n",
    "data.shape"
   ]
  },
  {
   "cell_type": "code",
   "execution_count": 9,
   "metadata": {},
   "outputs": [
    {
     "data": {
      "text/plain": [
       "((48907, 5000), (48907,))"
      ]
     },
     "execution_count": 9,
     "metadata": {},
     "output_type": "execute_result"
    }
   ],
   "source": [
    "target1 = np.asarray(target)\n",
    "data1 = data[:len(target1),:5000].todense()\n",
    "data1.shape, target1.shape"
   ]
  },
  {
   "cell_type": "code",
   "execution_count": 10,
   "metadata": {},
   "outputs": [],
   "source": [
    "from sklearn.ensemble import GradientBoostingRegressor, RandomForestRegressor\n",
    "from sklearn.neighbors import KNeighborsRegressor\n",
    "from sklearn.linear_model import LogisticRegression\n",
    "from sklearn.svm import LinearSVR\n",
    "from sklearn.model_selection import StratifiedKFold\n",
    "from sklearn.metrics import mean_absolute_error\n",
    "import sys\n",
    "import time\n",
    "import warnings\n",
    "warnings.filterwarnings('ignore')"
   ]
  },
  {
   "cell_type": "code",
   "execution_count": 11,
   "metadata": {},
   "outputs": [],
   "source": [
    "from collections import OrderedDict\n",
    "regressors = OrderedDict({ \n",
    "    'KNeighborsRegressor': KNeighborsRegressor(n_jobs=5),\n",
    "    'LogisticRegression': LogisticRegression(n_jobs=5),\n",
    "    'LinearSVR': LinearSVR(),\n",
    "    #'GradientBoostingRegressor': GradientBoostingRegressor(),\n",
    "    'RandomForestRegressor': RandomForestRegressor(n_jobs=5),\n",
    "})"
   ]
  },
  {
   "cell_type": "code",
   "execution_count": 12,
   "metadata": {},
   "outputs": [
    {
     "name": "stdout",
     "output_type": "stream",
     "text": [
      "Shape: (24458, 5000)\n",
      "\n",
      "KNeighborsRegressor\n",
      "0 mea:  1.8941 232.53\n",
      "1 mea:  1.859 232.42\n",
      "2 mea:  1.8483 231.7\n",
      "MEA Mean:  1.8671 232.2175\n",
      "\n",
      "LogisticRegression\n",
      "0 mea:  2.7573 10.91\n",
      "1 mea:  2.7547 10.88\n",
      "2 mea:  2.7414 10.31\n",
      "MEA Mean:  2.7511 10.6976\n",
      "\n",
      "LinearSVR\n",
      "0 mea:  1.8832 0.88\n",
      "1 mea:  1.8848 0.88\n",
      "2 mea:  1.8725 0.88\n",
      "MEA Mean:  1.8802 0.8823\n",
      "\n",
      "RandomForestRegressor\n",
      "0 mea:  1.4057 153.09\n",
      "1 mea:  1.3811 168.42\n",
      "2 mea:  1.3932 139.38\n",
      "MEA Mean:  1.3933 153.6297\n",
      "\n",
      "Shape: (24458, 5000)\n",
      "{'KNeighborsRegressor': '1.8671, 232.2175', 'LogisticRegression': '2.7511, 10.6976', 'LinearSVR': '1.8802, 0.8823', 'RandomForestRegressor': '1.3933, 153.6297'}\n"
     ]
    }
   ],
   "source": [
    "kfold1 = StratifiedKFold(n_splits=2, shuffle=True)\n",
    "kfold2 = StratifiedKFold(n_splits=6, shuffle=True)\n",
    "\n",
    "model_result = {}\n",
    "\n",
    "for i1, (train, test) in enumerate(kfold1.split(data1, target1)):\n",
    "    \n",
    "    if i1 > 0: break\n",
    "    \n",
    "    data2 = data1[test]\n",
    "    target2 = target1[test]\n",
    "\n",
    "    print ('Shape:' , data2.shape)\n",
    "    sys.stdout.flush()\n",
    "\n",
    "    for m_name, model in regressors.items():\n",
    "    \n",
    "        values = []\n",
    "        prediction = []\n",
    "        models = []\n",
    "        maes_sk = []\n",
    "        times = []\n",
    "    \n",
    "        print('')\n",
    "        print(m_name)\n",
    "        sys.stdout.flush()\n",
    "    \n",
    "        for i2, (train2, test2) in enumerate(kfold2.split(data2, target2)):\n",
    "        \n",
    "            if i2 > 2: break\n",
    "        \n",
    "            start = time.time()\n",
    "\n",
    "            model.fit(data2[train2], target2[train2])\n",
    "            target_pred = model.predict(data2[test2])\n",
    "            mae = mean_absolute_error(target2[test2], target_pred)\n",
    "\n",
    "            values.extend(target2[test2])\n",
    "            prediction.extend(target_pred)\n",
    "            models.append(model)\n",
    "            maes_sk.append(mae)\n",
    "            times.append(time.time() - start)\n",
    "            \n",
    "            print (i2, 'mea: ', round(mae,4), round(time.time() - start,2))\n",
    "            sys.stdout.flush()\n",
    "\n",
    "        print('MEA Mean: ', round(np.mean(maes_sk),4), round(np.mean(times),4))\n",
    "        model_result[m_name] = str(round(np.mean(maes_sk),4)) + ', ' + str(round(np.mean(times),4))\n",
    "        sys.stdout.flush()\n",
    "        \n",
    "print('')\n",
    "print ('Shape:' , data2.shape)\n",
    "print(model_result)"
   ]
  },
  {
   "cell_type": "markdown",
   "metadata": {},
   "source": [
    "### Shape: (24457, UniGram)\n",
    "- 'RandomForestRegressor': '1.3853, 138.317'\n",
    "- 'GradientBoostingRegressor': '1.3947, 529.5245'\n",
    "- 'LogisticRegression': '2.7489, 14.9533'\n",
    "- 'LinearSVR': '1.9028, 0.9797'\n",
    "- 'KNeighborsRegressor': '1.8279, 245.6863'\n",
    "\n",
    "### Shape: (24457, MultiGram)\n",
    "- 'RandomForestRegressor':  1.4462 130.0258\n",
    "- 'GradientBoostingRegressor': \n",
    "- 'LogisticRegression': 2.8139 11.429\n",
    "- 'LinearSVR': 2.1496 0.8715\n",
    "- 'KNeighborsRegressor': "
   ]
  },
  {
   "cell_type": "code",
   "execution_count": null,
   "metadata": {},
   "outputs": [],
   "source": []
  }
 ],
 "metadata": {
  "kernelspec": {
   "display_name": "Python 3",
   "language": "python",
   "name": "python3"
  },
  "language_info": {
   "codemirror_mode": {
    "name": "ipython",
    "version": 3
   },
   "file_extension": ".py",
   "mimetype": "text/x-python",
   "name": "python",
   "nbconvert_exporter": "python",
   "pygments_lexer": "ipython3",
   "version": "3.6.3"
  }
 },
 "nbformat": 4,
 "nbformat_minor": 2
}
