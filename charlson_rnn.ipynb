{
 "cells": [
  {
   "cell_type": "markdown",
   "metadata": {},
   "source": [
    "### Basic Imports"
   ]
  },
  {
   "cell_type": "code",
   "execution_count": 58,
   "metadata": {},
   "outputs": [],
   "source": [
    "import warnings\n",
    "warnings.filterwarnings('ignore')\n",
    "\n",
    "import numpy as np\n",
    "import time"
   ]
  },
  {
   "cell_type": "markdown",
   "metadata": {},
   "source": [
    "### Load Data"
   ]
  },
  {
   "cell_type": "code",
   "execution_count": 59,
   "metadata": {},
   "outputs": [
    {
     "data": {
      "text/plain": [
       "(48907, 9)"
      ]
     },
     "execution_count": 59,
     "metadata": {},
     "output_type": "execute_result"
    }
   ],
   "source": [
    "import pandas as pd\n",
    "\n",
    "patients = pd.read_csv('internacoes_charlson_zero.csv.gz', compression='gzip', nrows=None)\n",
    "target = patients['target'].values\n",
    "patients.shape"
   ]
  },
  {
   "cell_type": "markdown",
   "metadata": {},
   "source": [
    "### Split a Smaller Set"
   ]
  },
  {
   "cell_type": "code",
   "execution_count": 60,
   "metadata": {},
   "outputs": [
    {
     "name": "stdout",
     "output_type": "stream",
     "text": [
      "Data Size: 24459\n",
      "Mean Tokens: 6020.543889774725\n"
     ]
    }
   ],
   "source": [
    "from sklearn.model_selection import StratifiedKFold\n",
    "\n",
    "split_kfold = StratifiedKFold(n_splits=2, shuffle=True)\n",
    "for trash, used in split_kfold.split(patients.index.values, target):\n",
    "    break\n",
    "    \n",
    "target_set = np.asarray(patients.iloc[used]['target'].values)\n",
    "text_set = patients.iloc[used]['text'].values\n",
    "\n",
    "print('Data Size:', len(used))\n",
    "print('Mean Tokens:', np.mean(patients.iloc[used]['wc'].values))"
   ]
  },
  {
   "cell_type": "markdown",
   "metadata": {},
   "source": [
    "### Load Word2Vec Model"
   ]
  },
  {
   "cell_type": "code",
   "execution_count": 61,
   "metadata": {},
   "outputs": [
    {
     "data": {
      "text/plain": [
       "67805"
      ]
     },
     "execution_count": 61,
     "metadata": {},
     "output_type": "execute_result"
    }
   ],
   "source": [
    "from gensim.models.word2vec import KeyedVectors\n",
    "w2v_model = KeyedVectors.load_word2vec_format('health_w2v_unigram_150.bin', binary=True)\n",
    "len(w2v_model.vocab)"
   ]
  },
  {
   "cell_type": "markdown",
   "metadata": {},
   "source": [
    "### Tokenize Clinical Notes\n",
    "Remove accents and stopwords, It take a while..."
   ]
  },
  {
   "cell_type": "code",
   "execution_count": 62,
   "metadata": {},
   "outputs": [
    {
     "name": "stdout",
     "output_type": "stream",
     "text": [
      "[nltk_data] Downloading package stopwords to\n",
      "[nltk_data]     /home/grupopln/nltk_data...\n",
      "[nltk_data]   Package stopwords is already up-to-date!\n"
     ]
    }
   ],
   "source": [
    "import unicodedata\n",
    "import nltk\n",
    "from nltk.corpus import stopwords\n",
    "\n",
    "nltk.download('stopwords')\n",
    "\n",
    "def remove_accents(input_str):\n",
    "    nfkd_form = unicodedata.normalize('NFKD', input_str)\n",
    "    return u\"\".join([c for c in nfkd_form if not unicodedata.combining(c)])\n",
    "\n",
    "def tokenizer(text):\n",
    "    return_text = []\n",
    "    sw_port = stopwords.words(\"portuguese\")\n",
    "    for sentence in text:\n",
    "        reg_tokenizer = nltk.tokenize.RegexpTokenizer(r'\\w+')\n",
    "        tokens = reg_tokenizer.tokenize(sentence)\n",
    "        return_text.append(' '.join([remove_accents(w.lower()) for w in tokens if w not in sw_port]))\n",
    "        \n",
    "    return return_text"
   ]
  },
  {
   "cell_type": "code",
   "execution_count": 63,
   "metadata": {},
   "outputs": [
    {
     "name": "stdout",
     "output_type": "stream",
     "text": [
      "Takes  485  s for 24459  instances\n"
     ]
    }
   ],
   "source": [
    "start = time.time()\n",
    "tokens_set = tokenizer(text_set)\n",
    "print('Takes ', round(time.time() - start), ' s for', len(used), ' instances')"
   ]
  },
  {
   "cell_type": "markdown",
   "metadata": {},
   "source": [
    "### Text Vector Representation"
   ]
  },
  {
   "cell_type": "code",
   "execution_count": 64,
   "metadata": {},
   "outputs": [
    {
     "name": "stdout",
     "output_type": "stream",
     "text": [
      "Takes  113  s for 24459  instances\n"
     ]
    }
   ],
   "source": [
    "from keras.preprocessing.sequence import pad_sequences\n",
    "from keras.preprocessing.text import Tokenizer\n",
    "\n",
    "start = time.time()\n",
    "\n",
    "max_words = len(w2v_model.vocab)\n",
    "tokenize = Tokenizer(num_words=max_words)\n",
    "tokenize.fit_on_texts(tokens_set)\n",
    "\n",
    "max_length = 5000\n",
    "sequences = tokenize.texts_to_sequences(tokens_set)\n",
    "data_matrix = pad_sequences(sequences, maxlen=max_length)\n",
    "\n",
    "print('Takes ', round(time.time() - start), ' s for', len(used), ' instances')"
   ]
  },
  {
   "cell_type": "code",
   "execution_count": 65,
   "metadata": {},
   "outputs": [
    {
     "data": {
      "text/plain": [
       "(393, 2390)"
      ]
     },
     "execution_count": 65,
     "metadata": {},
     "output_type": "execute_result"
    }
   ],
   "source": [
    "len(data_matrix[0][data_matrix[0]!=0]), len(tokens_set[0])"
   ]
  },
  {
   "cell_type": "markdown",
   "metadata": {},
   "source": [
    "### Setup Words Weights for Embedding Layer"
   ]
  },
  {
   "cell_type": "code",
   "execution_count": 66,
   "metadata": {},
   "outputs": [
    {
     "name": "stdout",
     "output_type": "stream",
     "text": [
      "Symbols 67806\n",
      "Weights (67806, 150)\n"
     ]
    }
   ],
   "source": [
    "vocab_dim = len(w2v_model.word_vec('0'))\n",
    "word_index = tokenize.word_index\n",
    "n_symbols = min(max_words, len(word_index))+1\n",
    "\n",
    "embedding_weights = np.zeros((n_symbols, vocab_dim))\n",
    "for word, i in word_index.items():\n",
    "    if i >= n_symbols: break\n",
    "    if word in w2v_model.vocab:\n",
    "        embedding_weights[i] = w2v_model.word_vec(word)\n",
    "\n",
    "print('Symbols', n_symbols)\n",
    "print('Weights', embedding_weights.shape)"
   ]
  },
  {
   "cell_type": "markdown",
   "metadata": {},
   "source": [
    "### Setup RNN Layers"
   ]
  },
  {
   "cell_type": "code",
   "execution_count": 67,
   "metadata": {},
   "outputs": [],
   "source": [
    "from keras.layers.recurrent import LSTM\n",
    "from keras.layers.core import Dense, Dropout, Activation\n",
    "from keras.layers import Conv1D, Bidirectional, Flatten, MaxPooling1D, Dropout\n",
    "from keras.layers.embeddings import Embedding\n",
    "from keras.models import Sequential\n",
    "\n",
    "conv_0 = Conv1D(50, 3, activation='relu', name='conv0')\n",
    "\n",
    "lstm_0 = LSTM(units=50, recurrent_activation=\"hard_sigmoid\", activation=\"relu\", name='lstm0')\n",
    "\n",
    "bi_lstm_0 = Bidirectional(lstm_0, name='bilstm0')\n",
    "\n",
    "embedding_layer = Embedding(embedding_weights.shape[0],\n",
    "                            embedding_weights.shape[1],\n",
    "                            weights=[embedding_weights],\n",
    "                            input_length=max_length)"
   ]
  },
  {
   "cell_type": "markdown",
   "metadata": {},
   "source": [
    "### Create Model, Train and Evaluate"
   ]
  },
  {
   "cell_type": "code",
   "execution_count": null,
   "metadata": {
    "scrolled": false
   },
   "outputs": [
    {
     "name": "stdout",
     "output_type": "stream",
     "text": [
      "Defining a RNN Model...\n",
      "Data Shape (24459, 5000)\n",
      "Weights (67806, 150)\n",
      "Creating model...\n",
      "Epoch 1/20\n",
      "20372/20372 [==============================] - 117s 6ms/step - loss: 2.1329 - mean_absolute_error: 2.1329\n",
      "Epoch 2/20\n",
      "20372/20372 [==============================] - 112s 5ms/step - loss: 1.6594 - mean_absolute_error: 1.6594\n",
      "Epoch 3/20\n",
      "20372/20372 [==============================] - 113s 6ms/step - loss: 1.4261 - mean_absolute_error: 1.4261\n",
      "Epoch 4/20\n",
      "20372/20372 [==============================] - 112s 6ms/step - loss: 1.2787 - mean_absolute_error: 1.2787\n",
      "Epoch 5/20\n",
      "20372/20372 [==============================] - 112s 6ms/step - loss: 1.1758 - mean_absolute_error: 1.1758\n",
      "Epoch 6/20\n",
      "20372/20372 [==============================] - 112s 6ms/step - loss: 1.1039 - mean_absolute_error: 1.1039\n",
      "Epoch 7/20\n",
      "20372/20372 [==============================] - 112s 6ms/step - loss: 1.0466 - mean_absolute_error: 1.0466\n",
      "Epoch 8/20\n",
      "16300/20372 [=======================>......] - ETA: 22s - loss: 1.0130 - mean_absolute_error: 1.0130"
     ]
    }
   ],
   "source": [
    "print ('Defining a RNN Model...')\n",
    "   \n",
    "kfold = StratifiedKFold(n_splits=6)\n",
    "cvscores = []\n",
    "times = []\n",
    "values = []\n",
    "predictions = []\n",
    "\n",
    "print('Data Shape', data_matrix.shape)\n",
    "print('Weights', embedding_weights.shape)\n",
    "\n",
    "for i, (train, test) in enumerate(kfold.split(data_matrix, target_set)):\n",
    "    \n",
    "    if i > 2: break\n",
    "    \n",
    "    start = time.time()\n",
    "    print('Creating model...')\n",
    "    # create model\n",
    "    model = Sequential()\n",
    "    model.add(embedding_layer)\n",
    "    \n",
    "    #model.add(Conv1D(128, 5, activation='relu'))\n",
    "    #model.add(MaxPooling1D(2))\n",
    "    #model.add(Conv1D(128, 5, activation='relu'))\n",
    "    #model.add(MaxPooling1D(5))\n",
    "    \n",
    "    #model.add(Conv1D(50, 3, activation='relu'))\n",
    "    #model.add(lstm_0)\n",
    "    #model.add(bi_lstm_0)\n",
    "    model.add(Flatten())\n",
    "    \n",
    "    model.add(Dense(20, activation='relu'))\n",
    "    model.add(Dropout(0.5))    \n",
    "    model.add(Dense(1))\n",
    "    model.add(Activation('relu'))\n",
    "    \n",
    "    # Compile model\n",
    "    model.compile(loss='mean_absolute_error', optimizer='sgd',metrics=['mae'])\n",
    "    \n",
    "    # Fit the model\n",
    "    model.fit(data_matrix[train], target_set[train], epochs=20, batch_size=100, verbose=1)\n",
    "\n",
    "    # evaluate the model\n",
    "    scores = model.evaluate(data_matrix[test], target_set[test], verbose=0)\n",
    "    target_pred = model.predict(data_matrix[test])\n",
    "    \n",
    "    values.extend(target_set[test])\n",
    "    predictions.extend(target_pred)\n",
    "    \n",
    "    print(model.metrics_names[1], scores[1])\n",
    "    cvscores.append(scores[1])\n",
    "    times.append(time.time() - start)\n",
    "    \n",
    "print('Mean: ', np.mean(cvscores), 'Std: ', np.std(cvscores))\n",
    "print('Time: ', np.mean(times))"
   ]
  },
  {
   "cell_type": "markdown",
   "metadata": {},
   "source": [
    "### Regroup Values"
   ]
  },
  {
   "cell_type": "code",
   "execution_count": null,
   "metadata": {},
   "outputs": [],
   "source": [
    "import gzip, pickle\n",
    "\n",
    "values = np.reshape(values,len(values))\n",
    "predictions = np.reshape(predictions,len(predictions))\n",
    "\n",
    "tuples = np.stack((values,np.round(predictions,1)), axis=-1) ## ROUND TUPLES\n",
    "\n",
    "with gzip.open(\"tuples.pkl.gz\", \"wb\") as wfp:   #Pickling\n",
    "    pickle.dump(tuples, wfp)\n",
    "    wfp.close()"
   ]
  },
  {
   "cell_type": "code",
   "execution_count": null,
   "metadata": {},
   "outputs": [],
   "source": [
    "with gzip.open(\"tuples.pkl.gz\", \"rb\") as wfp:   #Pickling\n",
    "    tuples = pickle.load(wfp)\n",
    "    wfp.close()\n",
    "    \n",
    "frequencies = {}\n",
    "for x,y in tuples:\n",
    "    key = (x, y)\n",
    "    if key in frequencies:\n",
    "        frequencies[key] += 1\n",
    "    else:\n",
    "        frequencies[key] = 1\n",
    "\n",
    "size = []\n",
    "x = []\n",
    "y = []\n",
    "for key in frequencies.keys():\n",
    "    size.append(frequencies[key])\n",
    "    x.append(key[0])\n",
    "    y.append(key[1])"
   ]
  },
  {
   "cell_type": "markdown",
   "metadata": {},
   "source": [
    "### Plot Scatter"
   ]
  },
  {
   "cell_type": "code",
   "execution_count": null,
   "metadata": {},
   "outputs": [],
   "source": [
    "%matplotlib inline\n",
    "import matplotlib.pyplot as plt\n",
    "\n",
    "maxX = np.max(x)\n",
    "\n",
    "plt.figure(figsize=(8, 4), dpi= 300)\n",
    "plt.xlabel('Charlson Value', fontsize=10)\n",
    "plt.ylabel('Prediction Value', fontsize=10)\n",
    "plt.xticks(range(int(maxX)+1))\n",
    "plt.yticks(range(int(maxX)+1))\n",
    "\n",
    "plt.scatter(x,y,s=size)\n",
    "plt.show()"
   ]
  },
  {
   "cell_type": "code",
   "execution_count": null,
   "metadata": {},
   "outputs": [],
   "source": []
  }
 ],
 "metadata": {
  "kernelspec": {
   "display_name": "Python 3",
   "language": "python",
   "name": "python3"
  },
  "language_info": {
   "codemirror_mode": {
    "name": "ipython",
    "version": 3
   },
   "file_extension": ".py",
   "mimetype": "text/x-python",
   "name": "python",
   "nbconvert_exporter": "python",
   "pygments_lexer": "ipython3",
   "version": "3.6.3"
  }
 },
 "nbformat": 4,
 "nbformat_minor": 2
}
